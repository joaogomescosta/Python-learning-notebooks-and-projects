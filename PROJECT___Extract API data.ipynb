{
 "cells": [
  {
   "cell_type": "markdown",
   "metadata": {},
   "source": [
    "<center>\n",
    "    <img src=\"https://gitlab.com/ibm/skills-network/courses/placeholder101/-/raw/master/labs/module%201/images/IDSNlogo.png\" width=\"300\" alt=\"cognitiveclass.ai logo\"  />\n",
    "</center>\n"
   ]
  },
  {
   "cell_type": "markdown",
   "metadata": {},
   "source": [
    "# Peer Review Assignment - Data Engineer - Extract API Data\n"
   ]
  },
  {
   "cell_type": "markdown",
   "metadata": {},
   "source": [
    "Estimated time needed: **20** minutes\n"
   ]
  },
  {
   "cell_type": "markdown",
   "metadata": {},
   "source": [
    "## Objectives\n",
    "\n",
    "In this part you will:\n",
    "\n",
    "*   Collect exchange rate data using an API\n",
    "*   Store the data as a CSV\n"
   ]
  },
  {
   "cell_type": "markdown",
   "metadata": {},
   "source": [
    "For this lab, we are going to be using Python and several Python libraries. Some of these libraries might be installed in your lab environment or in SN Labs. Others may need to be installed by you. The cells below will install these libraries when executed.\n"
   ]
  },
  {
   "cell_type": "code",
   "execution_count": 2,
   "metadata": {},
   "outputs": [],
   "source": [
    "#!pip install pandas\n",
    "#!pip install requests"
   ]
  },
  {
   "cell_type": "markdown",
   "metadata": {},
   "source": [
    "## Imports\n",
    "\n",
    "Import any additional libraries you may need here.\n"
   ]
  },
  {
   "cell_type": "code",
   "execution_count": 25,
   "metadata": {},
   "outputs": [],
   "source": [
    "import requests\n",
    "import pandas as pd"
   ]
  },
  {
   "cell_type": "markdown",
   "metadata": {},
   "source": [
    "## Extract Data Using an API\n"
   ]
  },
  {
   "cell_type": "markdown",
   "metadata": {},
   "source": [
    "Using ExchangeRate-API we will extract currency exchange rate data. Use the below steps to get the access key and to get the data.\n",
    "\n",
    "1.  Open the url : [https://exchangeratesapi.io/](https://exchangeratesapi.io/?utm_medium=Exinfluencer&utm_source=Exinfluencer&utm_content=000026UJ&utm_term=10006555&utm_id=NA-SkillsNetwork-Channel-SkillsNetworkCoursesIBMDeveloperSkillsNetworkPY0221ENSkillsNetwork23455645-2021-01-01) and create a free account.\n",
    "2.  Once the account is created. You will get the Get the Free API key option on the top as shown below:\n",
    "\n",
    "<img src=\"https://cf-courses-data.s3.us.cloud-object-storage.appdomain.cloud/IBMDeveloperSkillsNetwork-PY0221EN-SkillsNetwork/labs/module%206/Final%20Assignment/Images/getapi.png\"/>\n",
    "\n",
    "3.  Copy the API key and use in the url in Question 1.\n"
   ]
  },
  {
   "cell_type": "markdown",
   "metadata": {},
   "source": [
    "### Call the API\n",
    "\n",
    "<b> Question 1</b> Using the `requests` library call the endpoint given above and save the text, remember the first few characters of the output:\n"
   ]
  },
  {
   "cell_type": "code",
   "execution_count": 33,
   "metadata": {},
   "outputs": [
    {
     "name": "stdout",
     "output_type": "stream",
     "text": [
      "{'success': True, 'timestamp': 1639499957, 'base': 'EUR', 'date': '2021-12-14', 'rates': {'AED': 4.140239, 'AFN': 127.31739, 'ALL': 120.722014, 'AMD': 559.659578, 'ANG': 2.032309, 'AOA': 629.768127, 'ARS': 114.723721, 'AUD': 1.585312, 'AWG': 2.028968, 'AZN': 1.927688, 'BAM': 1.948552, 'BBD': 2.276895, 'BDT': 96.726141, 'BGN': 1.951302, 'BHD': 0.424985, 'BIF': 2257.791019, 'BMD': 1.127205, 'BND': 1.541649, 'BOB': 7.78655, 'BRL': 6.383811, 'BSD': 1.127688, 'BTC': 2.3956376e-05, 'BTN': 85.546748, 'BWP': 13.266905, 'BYN': 2.856929, 'BYR': 22093.212168, 'BZD': 2.27301, 'CAD': 1.448548, 'CDF': 2255.53652, 'CHF': 1.04138, 'CLF': 0.034552, 'CLP': 953.625894, 'CNY': 7.177473, 'COP': 4434.614924, 'CRC': 719.552352, 'CUC': 1.127205, 'CUP': 29.870925, 'CVE': 110.63516, 'CZK': 25.312841, 'DJF': 200.750165, 'DKK': 7.436203, 'DOP': 64.081809, 'DZD': 156.732853, 'EGP': 17.73623, 'ERN': 16.908158, 'ETB': 54.500335, 'EUR': 1, 'FJD': 2.399852, 'FKP': 0.85034, 'GBP': 0.851586, 'GEL': 3.488676, 'GGP': 0.85034, 'GHS': 6.892901, 'GIP': 0.85034, 'GMD': 59.171192, 'GNF': 10483.00408, 'GTQ': 8.71973, 'GYD': 235.819176, 'HKD': 8.796598, 'HNL': 27.357512, 'HRK': 7.522172, 'HTG': 112.949615, 'HUF': 367.20153, 'IDR': 16151.43438, 'ILS': 3.536526, 'IMP': 0.85034, 'INR': 85.729667, 'IQD': 1645.718866, 'IRR': 47652.578725, 'ISK': 147.009773, 'JEP': 0.85034, 'JMD': 173.927125, 'JOD': 0.799152, 'JPY': 128.144004, 'KES': 127.317794, 'KGS': 95.58381, 'KHR': 4590.540053, 'KMF': 491.320371, 'KPW': 1014.484145, 'KRW': 1335.951538, 'KWD': 0.341554, 'KYD': 0.939794, 'KZT': 493.297452, 'LAK': 12427.431909, 'LBP': 1721.974188, 'LKR': 228.353773, 'LRD': 159.668687, 'LSL': 18.046658, 'LTL': 3.328342, 'LVL': 0.681835, 'LYD': 5.190727, 'MAD': 10.441273, 'MDL': 20.016136, 'MGA': 4472.183577, 'MKD': 61.385714, 'MMK': 2007.009714, 'MNT': 3221.984622, 'MOP': 9.064383, 'MRO': 402.411885, 'MUR': 49.20197, 'MVR': 17.356803, 'MWK': 924.307526, 'MXN': 23.885186, 'MYR': 4.761876, 'MZN': 71.949147, 'NAD': 18.046944, 'NGN': 462.120463, 'NIO': 39.705781, 'NOK': 10.265205, 'NPR': 136.874359, 'NZD': 1.669834, 'OMR': 0.433987, 'PAB': 1.127688, 'PEN': 4.571914, 'PGK': 3.950836, 'PHP': 56.66627, 'PKR': 200.64193, 'PLN': 4.625895, 'PYG': 7680.745206, 'QAR': 4.104147, 'RON': 4.950456, 'RSD': 117.606921, 'RUB': 83.097362, 'RWF': 1168.899152, 'SAR': 4.228605, 'SBD': 9.116164, 'SCR': 15.38113, 'SDG': 493.148537, 'SEK': 10.295634, 'SGD': 1.543818, 'SHP': 1.552615, 'SLL': 12660.76356, 'SOS': 659.414814, 'SRD': 24.271006, 'STD': 23330.861524, 'SVC': 9.867145, 'SYP': 2832.09368, 'SZL': 18.039918, 'THB': 37.659696, 'TJS': 12.731346, 'TMT': 3.945216, 'TND': 3.253167, 'TOP': 2.579836, 'TRY': 16.198123, 'TTD': 7.660288, 'TWD': 31.375181, 'TZS': 2595.952059, 'UAH': 30.433028, 'UGX': 4014.505154, 'USD': 1.127205, 'UYU': 49.927733, 'UZS': 12230.171042, 'VEF': 241030432149.34335, 'VND': 25936.980204, 'VUV': 127.658923, 'WST': 2.930925, 'XAF': 653.438041, 'XAG': 0.051473, 'XAU': 0.000636, 'XCD': 3.046327, 'XDR': 0.807188, 'XOF': 653.778549, 'XPF': 119.484026, 'YER': 282.082854, 'ZAR': 18.18928, 'ZMK': 10146.189738, 'ZMW': 18.352749, 'ZWL': 362.959454}}\n"
     ]
    }
   ],
   "source": [
    "# Write your code here\n",
    "url = \"http://api.exchangeratesapi.io/v1/latest?base=EUR&access_key=31da6115ef8a56cbc25df6e0e2c036a5\"  #Make sure to change ******* to your API key.\n",
    "html_data = requests.get(url)\n",
    "html_data = html_data.json()\n",
    "print (html_data)\n",
    "\n"
   ]
  },
  {
   "cell_type": "markdown",
   "metadata": {},
   "source": [
    "### Save as DataFrame\n",
    "\n",
    "<b> Question 2</b>  Using the data gathered turn it into a `pandas` dataframe. The dataframe should have the Currency as the index and `Rate` as their columns. Make sure to drop unnecessary columns.\n"
   ]
  },
  {
   "cell_type": "code",
   "execution_count": 49,
   "metadata": {},
   "outputs": [
    {
     "data": {
      "text/html": [
       "<div>\n",
       "<style scoped>\n",
       "    .dataframe tbody tr th:only-of-type {\n",
       "        vertical-align: middle;\n",
       "    }\n",
       "\n",
       "    .dataframe tbody tr th {\n",
       "        vertical-align: top;\n",
       "    }\n",
       "\n",
       "    .dataframe thead th {\n",
       "        text-align: right;\n",
       "    }\n",
       "</style>\n",
       "<table border=\"1\" class=\"dataframe\">\n",
       "  <thead>\n",
       "    <tr style=\"text-align: right;\">\n",
       "      <th></th>\n",
       "      <th>success</th>\n",
       "      <th>timestamp</th>\n",
       "      <th>base</th>\n",
       "      <th>date</th>\n",
       "      <th>rates</th>\n",
       "    </tr>\n",
       "  </thead>\n",
       "  <tbody>\n",
       "    <tr>\n",
       "      <th>AED</th>\n",
       "      <td>True</td>\n",
       "      <td>1639499957</td>\n",
       "      <td>EUR</td>\n",
       "      <td>2021-12-14</td>\n",
       "      <td>4.140239</td>\n",
       "    </tr>\n",
       "    <tr>\n",
       "      <th>AFN</th>\n",
       "      <td>True</td>\n",
       "      <td>1639499957</td>\n",
       "      <td>EUR</td>\n",
       "      <td>2021-12-14</td>\n",
       "      <td>127.317390</td>\n",
       "    </tr>\n",
       "    <tr>\n",
       "      <th>ALL</th>\n",
       "      <td>True</td>\n",
       "      <td>1639499957</td>\n",
       "      <td>EUR</td>\n",
       "      <td>2021-12-14</td>\n",
       "      <td>120.722014</td>\n",
       "    </tr>\n",
       "    <tr>\n",
       "      <th>AMD</th>\n",
       "      <td>True</td>\n",
       "      <td>1639499957</td>\n",
       "      <td>EUR</td>\n",
       "      <td>2021-12-14</td>\n",
       "      <td>559.659578</td>\n",
       "    </tr>\n",
       "    <tr>\n",
       "      <th>ANG</th>\n",
       "      <td>True</td>\n",
       "      <td>1639499957</td>\n",
       "      <td>EUR</td>\n",
       "      <td>2021-12-14</td>\n",
       "      <td>2.032309</td>\n",
       "    </tr>\n",
       "    <tr>\n",
       "      <th>...</th>\n",
       "      <td>...</td>\n",
       "      <td>...</td>\n",
       "      <td>...</td>\n",
       "      <td>...</td>\n",
       "      <td>...</td>\n",
       "    </tr>\n",
       "    <tr>\n",
       "      <th>YER</th>\n",
       "      <td>True</td>\n",
       "      <td>1639499957</td>\n",
       "      <td>EUR</td>\n",
       "      <td>2021-12-14</td>\n",
       "      <td>282.082854</td>\n",
       "    </tr>\n",
       "    <tr>\n",
       "      <th>ZAR</th>\n",
       "      <td>True</td>\n",
       "      <td>1639499957</td>\n",
       "      <td>EUR</td>\n",
       "      <td>2021-12-14</td>\n",
       "      <td>18.189280</td>\n",
       "    </tr>\n",
       "    <tr>\n",
       "      <th>ZMK</th>\n",
       "      <td>True</td>\n",
       "      <td>1639499957</td>\n",
       "      <td>EUR</td>\n",
       "      <td>2021-12-14</td>\n",
       "      <td>10146.189738</td>\n",
       "    </tr>\n",
       "    <tr>\n",
       "      <th>ZMW</th>\n",
       "      <td>True</td>\n",
       "      <td>1639499957</td>\n",
       "      <td>EUR</td>\n",
       "      <td>2021-12-14</td>\n",
       "      <td>18.352749</td>\n",
       "    </tr>\n",
       "    <tr>\n",
       "      <th>ZWL</th>\n",
       "      <td>True</td>\n",
       "      <td>1639499957</td>\n",
       "      <td>EUR</td>\n",
       "      <td>2021-12-14</td>\n",
       "      <td>362.959454</td>\n",
       "    </tr>\n",
       "  </tbody>\n",
       "</table>\n",
       "<p>168 rows × 5 columns</p>\n",
       "</div>"
      ],
      "text/plain": [
       "     success   timestamp base        date         rates\n",
       "AED     True  1639499957  EUR  2021-12-14      4.140239\n",
       "AFN     True  1639499957  EUR  2021-12-14    127.317390\n",
       "ALL     True  1639499957  EUR  2021-12-14    120.722014\n",
       "AMD     True  1639499957  EUR  2021-12-14    559.659578\n",
       "ANG     True  1639499957  EUR  2021-12-14      2.032309\n",
       "..       ...         ...  ...         ...           ...\n",
       "YER     True  1639499957  EUR  2021-12-14    282.082854\n",
       "ZAR     True  1639499957  EUR  2021-12-14     18.189280\n",
       "ZMK     True  1639499957  EUR  2021-12-14  10146.189738\n",
       "ZMW     True  1639499957  EUR  2021-12-14     18.352749\n",
       "ZWL     True  1639499957  EUR  2021-12-14    362.959454\n",
       "\n",
       "[168 rows x 5 columns]"
      ]
     },
     "metadata": {},
     "output_type": "display_data"
    }
   ],
   "source": [
    "# Turn the data into a dataframe\n",
    "\n",
    "table_df = pd.DataFrame(html_data)\n",
    "display (table_df)"
   ]
  },
  {
   "cell_type": "code",
   "execution_count": 63,
   "metadata": {},
   "outputs": [
    {
     "data": {
      "text/html": [
       "<div>\n",
       "<style scoped>\n",
       "    .dataframe tbody tr th:only-of-type {\n",
       "        vertical-align: middle;\n",
       "    }\n",
       "\n",
       "    .dataframe tbody tr th {\n",
       "        vertical-align: top;\n",
       "    }\n",
       "\n",
       "    .dataframe thead th {\n",
       "        text-align: right;\n",
       "    }\n",
       "</style>\n",
       "<table border=\"1\" class=\"dataframe\">\n",
       "  <thead>\n",
       "    <tr style=\"text-align: right;\">\n",
       "      <th></th>\n",
       "      <th>rates</th>\n",
       "    </tr>\n",
       "  </thead>\n",
       "  <tbody>\n",
       "    <tr>\n",
       "      <th>AED</th>\n",
       "      <td>4.140239</td>\n",
       "    </tr>\n",
       "    <tr>\n",
       "      <th>AFN</th>\n",
       "      <td>127.317390</td>\n",
       "    </tr>\n",
       "    <tr>\n",
       "      <th>ALL</th>\n",
       "      <td>120.722014</td>\n",
       "    </tr>\n",
       "    <tr>\n",
       "      <th>AMD</th>\n",
       "      <td>559.659578</td>\n",
       "    </tr>\n",
       "    <tr>\n",
       "      <th>ANG</th>\n",
       "      <td>2.032309</td>\n",
       "    </tr>\n",
       "    <tr>\n",
       "      <th>...</th>\n",
       "      <td>...</td>\n",
       "    </tr>\n",
       "    <tr>\n",
       "      <th>YER</th>\n",
       "      <td>282.082854</td>\n",
       "    </tr>\n",
       "    <tr>\n",
       "      <th>ZAR</th>\n",
       "      <td>18.189280</td>\n",
       "    </tr>\n",
       "    <tr>\n",
       "      <th>ZMK</th>\n",
       "      <td>10146.189738</td>\n",
       "    </tr>\n",
       "    <tr>\n",
       "      <th>ZMW</th>\n",
       "      <td>18.352749</td>\n",
       "    </tr>\n",
       "    <tr>\n",
       "      <th>ZWL</th>\n",
       "      <td>362.959454</td>\n",
       "    </tr>\n",
       "  </tbody>\n",
       "</table>\n",
       "<p>168 rows × 1 columns</p>\n",
       "</div>"
      ],
      "text/plain": [
       "            rates\n",
       "AED      4.140239\n",
       "AFN    127.317390\n",
       "ALL    120.722014\n",
       "AMD    559.659578\n",
       "ANG      2.032309\n",
       "..            ...\n",
       "YER    282.082854\n",
       "ZAR     18.189280\n",
       "ZMK  10146.189738\n",
       "ZMW     18.352749\n",
       "ZWL    362.959454\n",
       "\n",
       "[168 rows x 1 columns]"
      ]
     },
     "metadata": {},
     "output_type": "display_data"
    }
   ],
   "source": [
    "# Drop unnescessary columns\n",
    "table = table_df.drop([\"date\",\"success\",\"timestamp\",\"base\"], axis=1)\n",
    "display (table)"
   ]
  },
  {
   "cell_type": "markdown",
   "metadata": {},
   "source": [
    "### Load the Data\n",
    "\n",
    "Using the dataframe save it as a CSV names `exchange_rates_1.csv`.\n"
   ]
  },
  {
   "cell_type": "code",
   "execution_count": 73,
   "metadata": {},
   "outputs": [
    {
     "data": {
      "text/html": [
       "<div>\n",
       "<style scoped>\n",
       "    .dataframe tbody tr th:only-of-type {\n",
       "        vertical-align: middle;\n",
       "    }\n",
       "\n",
       "    .dataframe tbody tr th {\n",
       "        vertical-align: top;\n",
       "    }\n",
       "\n",
       "    .dataframe thead th {\n",
       "        text-align: right;\n",
       "    }\n",
       "</style>\n",
       "<table border=\"1\" class=\"dataframe\">\n",
       "  <thead>\n",
       "    <tr style=\"text-align: right;\">\n",
       "      <th></th>\n",
       "      <th>rates</th>\n",
       "    </tr>\n",
       "  </thead>\n",
       "  <tbody>\n",
       "    <tr>\n",
       "      <th>0</th>\n",
       "      <td>4.140239</td>\n",
       "    </tr>\n",
       "    <tr>\n",
       "      <th>1</th>\n",
       "      <td>127.317390</td>\n",
       "    </tr>\n",
       "    <tr>\n",
       "      <th>2</th>\n",
       "      <td>120.722014</td>\n",
       "    </tr>\n",
       "    <tr>\n",
       "      <th>3</th>\n",
       "      <td>559.659578</td>\n",
       "    </tr>\n",
       "    <tr>\n",
       "      <th>4</th>\n",
       "      <td>2.032309</td>\n",
       "    </tr>\n",
       "    <tr>\n",
       "      <th>...</th>\n",
       "      <td>...</td>\n",
       "    </tr>\n",
       "    <tr>\n",
       "      <th>163</th>\n",
       "      <td>282.082854</td>\n",
       "    </tr>\n",
       "    <tr>\n",
       "      <th>164</th>\n",
       "      <td>18.189280</td>\n",
       "    </tr>\n",
       "    <tr>\n",
       "      <th>165</th>\n",
       "      <td>10146.189738</td>\n",
       "    </tr>\n",
       "    <tr>\n",
       "      <th>166</th>\n",
       "      <td>18.352749</td>\n",
       "    </tr>\n",
       "    <tr>\n",
       "      <th>167</th>\n",
       "      <td>362.959454</td>\n",
       "    </tr>\n",
       "  </tbody>\n",
       "</table>\n",
       "<p>168 rows × 1 columns</p>\n",
       "</div>"
      ],
      "text/plain": [
       "            rates\n",
       "0        4.140239\n",
       "1      127.317390\n",
       "2      120.722014\n",
       "3      559.659578\n",
       "4        2.032309\n",
       "..            ...\n",
       "163    282.082854\n",
       "164     18.189280\n",
       "165  10146.189738\n",
       "166     18.352749\n",
       "167    362.959454\n",
       "\n",
       "[168 rows x 1 columns]"
      ]
     },
     "execution_count": 73,
     "metadata": {},
     "output_type": "execute_result"
    }
   ],
   "source": [
    "# Save the Dataframe\n",
    "table.to_csv(\"exchange_rates_1.csv\", index=False)"
   ]
  },
  {
   "cell_type": "markdown",
   "metadata": {},
   "source": [
    "Your CSV should be in this format with more currencies\n",
    "\n",
    "|     | Rates      |\n",
    "| --- | ---------- |\n",
    "| AED | 4.398618   |\n",
    "| AFN | 92.917693  |\n",
    "| ALL | 123.099093 |\n",
    "| AMD | 621.935674 |\n",
    "| ANG | 2.149648   |\n"
   ]
  },
  {
   "cell_type": "markdown",
   "metadata": {},
   "source": [
    "## Authors\n"
   ]
  },
  {
   "cell_type": "markdown",
   "metadata": {},
   "source": [
    "Ramesh Sannareddy, Joseph Santarcangelo and Azim Hirjani\n"
   ]
  },
  {
   "cell_type": "markdown",
   "metadata": {},
   "source": [
    "### Other Contributors\n"
   ]
  },
  {
   "cell_type": "markdown",
   "metadata": {},
   "source": [
    "Rav Ahuja\n"
   ]
  },
  {
   "cell_type": "markdown",
   "metadata": {},
   "source": [
    "## Change Log\n"
   ]
  },
  {
   "cell_type": "markdown",
   "metadata": {},
   "source": [
    "| Date (YYYY-MM-DD) | Version | Changed By        | Change Description                 |\n",
    "| ----------------- | ------- | ----------------- | ---------------------------------- |\n",
    "| 2021-04-15        | 0.2     | Malika            | Updated the lab from USD to EUR    |\n",
    "| 2020-11-25        | 0.1     | Ramesh Sannareddy | Created initial version of the lab |\n"
   ]
  },
  {
   "cell_type": "markdown",
   "metadata": {},
   "source": [
    "Copyright © 2020 IBM Corporation. This notebook and its source code are released under the terms of the [MIT License](https://cognitiveclass.ai/mit-license?utm_medium=Exinfluencer&utm_source=Exinfluencer&utm_content=000026UJ&utm_term=10006555&utm_id=NA-SkillsNetwork-Channel-SkillsNetworkCoursesIBMDeveloperSkillsNetworkPY0221ENSkillsNetwork23455645-2021-01-01&cm_mmc=Email_Newsletter-\\_-Developer_Ed%2BTech-\\_-WW_WW-\\_-SkillsNetwork-Courses-IBM-DA0321EN-SkillsNetwork-21426264&cm_mmca1=000026UJ&cm_mmca2=10006555&cm_mmca3=M12345678&cvosrc=email.Newsletter.M12345678&cvo_campaign=000026UJ).\n"
   ]
  }
 ],
 "metadata": {
  "kernelspec": {
   "display_name": "Python",
   "language": "python",
   "name": "conda-env-python-py"
  },
  "language_info": {
   "codemirror_mode": {
    "name": "ipython",
    "version": 3
   },
   "file_extension": ".py",
   "mimetype": "text/x-python",
   "name": "python",
   "nbconvert_exporter": "python",
   "pygments_lexer": "ipython3",
   "version": "3.7.12"
  }
 },
 "nbformat": 4,
 "nbformat_minor": 4
}
